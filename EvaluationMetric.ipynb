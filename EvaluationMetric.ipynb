{
  "nbformat": 4,
  "nbformat_minor": 0,
  "metadata": {
    "colab": {
      "name": "B19EE082_EvaluationMetricLab.ipynb",
      "provenance": [],
      "collapsed_sections": []
    },
    "kernelspec": {
      "name": "python3",
      "display_name": "Python 3"
    }
  },
  "cells": [
    {
      "cell_type": "code",
      "metadata": {
        "id": "9l7HD94rODqX"
      },
      "source": [
        "import pandas as pd\n",
        "import numpy as np\n",
        "from google.colab import drive"
      ],
      "execution_count": null,
      "outputs": []
    },
    {
      "cell_type": "code",
      "metadata": {
        "id": "30qfWl1uOGVv",
        "colab": {
          "base_uri": "https://localhost:8080/"
        },
        "outputId": "7f865b54-6d43-4fab-a084-614afbcaf74a"
      },
      "source": [
        "drive.mount('/content/drive')"
      ],
      "execution_count": null,
      "outputs": [
        {
          "output_type": "stream",
          "text": [
            "Mounted at /content/drive\n"
          ],
          "name": "stdout"
        }
      ]
    },
    {
      "cell_type": "code",
      "metadata": {
        "id": "uXcnDs55OhzG"
      },
      "source": [
        "# give path to the data.csv \r\n",
        "file_path = '/content/drive/My Drive/data.csv' "
      ],
      "execution_count": null,
      "outputs": []
    },
    {
      "cell_type": "markdown",
      "metadata": {
        "id": "P2izkRL5GOiV"
      },
      "source": [
        "As one may see, the csv file contains actual labels and the predicted probabilities from two ML model (random forest and logistic regression)."
      ]
    },
    {
      "cell_type": "code",
      "metadata": {
        "id": "Ps5StOSZOzc3",
        "colab": {
          "base_uri": "https://localhost:8080/",
          "height": 195
        },
        "outputId": "9c78bbfc-b6cc-45c7-90d4-92702b283117"
      },
      "source": [
        "df = pd.read_csv(file_path)\n",
        "df.head()\n"
      ],
      "execution_count": null,
      "outputs": [
        {
          "output_type": "execute_result",
          "data": {
            "text/html": [
              "<div>\n",
              "<style scoped>\n",
              "    .dataframe tbody tr th:only-of-type {\n",
              "        vertical-align: middle;\n",
              "    }\n",
              "\n",
              "    .dataframe tbody tr th {\n",
              "        vertical-align: top;\n",
              "    }\n",
              "\n",
              "    .dataframe thead th {\n",
              "        text-align: right;\n",
              "    }\n",
              "</style>\n",
              "<table border=\"1\" class=\"dataframe\">\n",
              "  <thead>\n",
              "    <tr style=\"text-align: right;\">\n",
              "      <th></th>\n",
              "      <th>y_act</th>\n",
              "      <th>y_pred_random_forest</th>\n",
              "      <th>y_pred_logistic</th>\n",
              "    </tr>\n",
              "  </thead>\n",
              "  <tbody>\n",
              "    <tr>\n",
              "      <th>0</th>\n",
              "      <td>1</td>\n",
              "      <td>0.639816</td>\n",
              "      <td>0.531904</td>\n",
              "    </tr>\n",
              "    <tr>\n",
              "      <th>1</th>\n",
              "      <td>0</td>\n",
              "      <td>0.490993</td>\n",
              "      <td>0.414496</td>\n",
              "    </tr>\n",
              "    <tr>\n",
              "      <th>2</th>\n",
              "      <td>1</td>\n",
              "      <td>0.623815</td>\n",
              "      <td>0.569883</td>\n",
              "    </tr>\n",
              "    <tr>\n",
              "      <th>3</th>\n",
              "      <td>1</td>\n",
              "      <td>0.506616</td>\n",
              "      <td>0.443674</td>\n",
              "    </tr>\n",
              "    <tr>\n",
              "      <th>4</th>\n",
              "      <td>0</td>\n",
              "      <td>0.418302</td>\n",
              "      <td>0.369532</td>\n",
              "    </tr>\n",
              "  </tbody>\n",
              "</table>\n",
              "</div>"
            ],
            "text/plain": [
              "   y_act  y_pred_random_forest  y_pred_logistic\n",
              "0      1              0.639816         0.531904\n",
              "1      0              0.490993         0.414496\n",
              "2      1              0.623815         0.569883\n",
              "3      1              0.506616         0.443674\n",
              "4      0              0.418302         0.369532"
            ]
          },
          "metadata": {
            "tags": []
          },
          "execution_count": 10
        }
      ]
    },
    {
      "cell_type": "markdown",
      "metadata": {
        "id": "ya4LrEfQGlJ6"
      },
      "source": [
        "You have to take a threshold value and will have to predict final label. \r\n",
        "So add two new columns named as 'y_pred_rf'and 'y_pred_lr' in the df dataframe. These new columns will have final label predicted by the two models based on the threshold set."
      ]
    },
    {
      "cell_type": "code",
      "metadata": {
        "id": "djBcS1sPO2hP",
        "colab": {
          "base_uri": "https://localhost:8080/",
          "height": 195
        },
        "outputId": "6affb9ac-2401-4f14-fbbc-ce23db84cacb"
      },
      "source": [
        "thresh = 0.6\n",
        "df['y_pred_rf'] = (df.y_pred_random_forest >= 0.6).astype('int')\n",
        "df['y_pred_lr'] = (df.y_pred_logistic >= 0.6).astype('int')\n",
        "df.head()"
      ],
      "execution_count": null,
      "outputs": [
        {
          "output_type": "execute_result",
          "data": {
            "text/html": [
              "<div>\n",
              "<style scoped>\n",
              "    .dataframe tbody tr th:only-of-type {\n",
              "        vertical-align: middle;\n",
              "    }\n",
              "\n",
              "    .dataframe tbody tr th {\n",
              "        vertical-align: top;\n",
              "    }\n",
              "\n",
              "    .dataframe thead th {\n",
              "        text-align: right;\n",
              "    }\n",
              "</style>\n",
              "<table border=\"1\" class=\"dataframe\">\n",
              "  <thead>\n",
              "    <tr style=\"text-align: right;\">\n",
              "      <th></th>\n",
              "      <th>y_act</th>\n",
              "      <th>y_pred_random_forest</th>\n",
              "      <th>y_pred_logistic</th>\n",
              "      <th>y_pred_rf</th>\n",
              "      <th>y_pred_lr</th>\n",
              "    </tr>\n",
              "  </thead>\n",
              "  <tbody>\n",
              "    <tr>\n",
              "      <th>0</th>\n",
              "      <td>1</td>\n",
              "      <td>0.639816</td>\n",
              "      <td>0.531904</td>\n",
              "      <td>1</td>\n",
              "      <td>0</td>\n",
              "    </tr>\n",
              "    <tr>\n",
              "      <th>1</th>\n",
              "      <td>0</td>\n",
              "      <td>0.490993</td>\n",
              "      <td>0.414496</td>\n",
              "      <td>0</td>\n",
              "      <td>0</td>\n",
              "    </tr>\n",
              "    <tr>\n",
              "      <th>2</th>\n",
              "      <td>1</td>\n",
              "      <td>0.623815</td>\n",
              "      <td>0.569883</td>\n",
              "      <td>1</td>\n",
              "      <td>0</td>\n",
              "    </tr>\n",
              "    <tr>\n",
              "      <th>3</th>\n",
              "      <td>1</td>\n",
              "      <td>0.506616</td>\n",
              "      <td>0.443674</td>\n",
              "      <td>0</td>\n",
              "      <td>0</td>\n",
              "    </tr>\n",
              "    <tr>\n",
              "      <th>4</th>\n",
              "      <td>0</td>\n",
              "      <td>0.418302</td>\n",
              "      <td>0.369532</td>\n",
              "      <td>0</td>\n",
              "      <td>0</td>\n",
              "    </tr>\n",
              "  </tbody>\n",
              "</table>\n",
              "</div>"
            ],
            "text/plain": [
              "   y_act  y_pred_random_forest  y_pred_logistic  y_pred_rf  y_pred_lr\n",
              "0      1              0.639816         0.531904          1          0\n",
              "1      0              0.490993         0.414496          0          0\n",
              "2      1              0.623815         0.569883          1          0\n",
              "3      1              0.506616         0.443674          0          0\n",
              "4      0              0.418302         0.369532          0          0"
            ]
          },
          "metadata": {
            "tags": []
          },
          "execution_count": 11
        }
      ]
    },
    {
      "cell_type": "code",
      "metadata": {
        "id": "MyCUFrItPlPO",
        "colab": {
          "base_uri": "https://localhost:8080/"
        },
        "outputId": "07c0eec0-aac1-430f-ddcb-3299a553e896"
      },
      "source": [
        "df.shape"
      ],
      "execution_count": null,
      "outputs": [
        {
          "output_type": "execute_result",
          "data": {
            "text/plain": [
              "(15758, 5)"
            ]
          },
          "metadata": {
            "tags": []
          },
          "execution_count": 12
        }
      ]
    },
    {
      "cell_type": "markdown",
      "metadata": {
        "id": "--7qeK98HW0i"
      },
      "source": [
        "Complete below function to compute true positive (tp), tn, fn, fp"
      ]
    },
    {
      "cell_type": "code",
      "metadata": {
        "id": "odU7dUxRPJ0l"
      },
      "source": [
        "def compute_tp_tn_fn_fp(y_act, y_pred):\n",
        "  x=list(map(int,y_act))\n",
        "  y=list(map(int,y_pred))\n",
        "  tp=0\n",
        "  tn=0\n",
        "  fp=0\n",
        "  fn=0\n",
        "  for i in range(len(x)):\n",
        "    if x[i]==1 and y[i]==1:\n",
        "      tp=tp+1\n",
        "    elif x[i]==1 and y[i]==0:\n",
        "      fn=fn+1\n",
        "    elif x[i]==0 and y[i]==0:\n",
        "      tn=tn+1\n",
        "    elif x[i]==0 and y[i]==1:\n",
        "      fp=fp+1\n",
        "  return tp, tn, fp, fn"
      ],
      "execution_count": null,
      "outputs": []
    },
    {
      "cell_type": "code",
      "metadata": {
        "id": "NUr_BhRdPScf",
        "colab": {
          "base_uri": "https://localhost:8080/"
        },
        "outputId": "50016a02-6a76-42b2-8f42-00affeea4278"
      },
      "source": [
        "tp_lr, tn_lr, fp_lr, fn_lr = compute_tp_tn_fn_fp(df.y_act, df.y_pred_lr)\n",
        "print('TP for Logistic Reg :', tp_lr)\n",
        "print('TN for Logistic Reg :', tn_lr)\n",
        "print('FP for Logistic Reg :', fp_lr)\n",
        "print('FN for Logistic Reg :', fn_lr)"
      ],
      "execution_count": null,
      "outputs": [
        {
          "output_type": "stream",
          "text": [
            "TP for Logistic Reg : 2406\n",
            "TN for Logistic Reg : 6858\n",
            "FP for Logistic Reg : 1021\n",
            "FN for Logistic Reg : 5473\n"
          ],
          "name": "stdout"
        }
      ]
    },
    {
      "cell_type": "code",
      "metadata": {
        "id": "I_g7lSw0QXSW",
        "colab": {
          "base_uri": "https://localhost:8080/"
        },
        "outputId": "f3eb13d5-6d9d-494c-93f6-bd163312baaa"
      },
      "source": [
        "tp_rf, tn_rf, fp_rf, fn_rf = compute_tp_tn_fn_fp(df.y_act, df.y_pred_rf)\n",
        "print('TP for Random Forest :', tp_rf)\n",
        "print('TN for Random Forest :', tn_rf)\n",
        "print('FP for Random Forest :', fp_rf)\n",
        "print('FN for Random Forest :', fn_rf)"
      ],
      "execution_count": null,
      "outputs": [
        {
          "output_type": "stream",
          "text": [
            "TP for Random Forest : 2239\n",
            "TN for Random Forest : 7417\n",
            "FP for Random Forest : 462\n",
            "FN for Random Forest : 5640\n"
          ],
          "name": "stdout"
        }
      ]
    },
    {
      "cell_type": "markdown",
      "metadata": {
        "id": "GvCtMtH1H26J"
      },
      "source": [
        "Let's verify result from sklearn"
      ]
    },
    {
      "cell_type": "code",
      "metadata": {
        "id": "bgZP9T4CZ1Li"
      },
      "source": [
        "from sklearn.metrics import confusion_matrix\n",
        "tn_rf1, fp_rf1, fn_rf1, tp_rf1 = confusion_matrix(df.y_act, df.y_pred_rf).ravel()"
      ],
      "execution_count": null,
      "outputs": []
    },
    {
      "cell_type": "code",
      "metadata": {
        "id": "_rtIci_rZ9J7",
        "colab": {
          "base_uri": "https://localhost:8080/"
        },
        "outputId": "5fec1734-2a65-4981-e07e-bfd394adb95f"
      },
      "source": [
        "print('TP for Random Forest :', tp_rf1)\n",
        "print('TN for Random Forest :', tn_rf1)\n",
        "print('FP for Random Forest :', fp_rf1)\n",
        "print('FN for Random Forest :', fn_rf1)"
      ],
      "execution_count": null,
      "outputs": [
        {
          "output_type": "stream",
          "text": [
            "TP for Random Forest : 2239\n",
            "TN for Random Forest : 7417\n",
            "FP for Random Forest : 462\n",
            "FN for Random Forest : 5640\n"
          ],
          "name": "stdout"
        }
      ]
    },
    {
      "cell_type": "markdown",
      "metadata": {
        "id": "jhjYqqR2H8xU"
      },
      "source": [
        "In a similar way complete all the functions below"
      ]
    },
    {
      "cell_type": "code",
      "metadata": {
        "id": "G8RHrb5kQ_I_"
      },
      "source": [
        "def compute_accuracy(tp, tn, fn, fp):\n",
        "  acc= (tn/(tn+fp) + tp/(tp+fn))*100/2\n",
        "  return acc"
      ],
      "execution_count": null,
      "outputs": []
    },
    {
      "cell_type": "code",
      "metadata": {
        "id": "NR5DT6tHRvc5",
        "colab": {
          "base_uri": "https://localhost:8080/"
        },
        "outputId": "8a874fab-7849-45e3-d588-986ef89e2723"
      },
      "source": [
        "print('Accuracy for Logistic Regression :', compute_accuracy(tp_lr, tn_lr, fn_lr, fp_lr))\n",
        "print('Accuracy for Random Forest :', compute_accuracy(tp_rf, tn_rf, fn_rf, fp_rf))"
      ],
      "execution_count": null,
      "outputs": [
        {
          "output_type": "stream",
          "text": [
            "Accuracy for Logistic Regression : 58.789186444980324\n",
            "Accuracy for Random Forest : 61.276811778144435\n"
          ],
          "name": "stdout"
        }
      ]
    },
    {
      "cell_type": "code",
      "metadata": {
        "id": "Oa_Yf9boSN3M"
      },
      "source": [
        "from sklearn.metrics import accuracy_score"
      ],
      "execution_count": null,
      "outputs": []
    },
    {
      "cell_type": "code",
      "metadata": {
        "id": "SUiyyqq-SWer",
        "colab": {
          "base_uri": "https://localhost:8080/"
        },
        "outputId": "b7c3cb0f-3b4d-41d8-83de-7dab007f5c4f"
      },
      "source": [
        "print('Accuracy for Logistic Regression :', 100* accuracy_score(df.y_act, \n",
        "                                                           df.y_pred_lr))\n",
        "print('Accuracy for Logistic Regression :', 100*accuracy_score(df.y_act, \n",
        "                                                           df.y_pred_rf))"
      ],
      "execution_count": null,
      "outputs": [
        {
          "output_type": "stream",
          "text": [
            "Accuracy for Logistic Regression : 58.789186444980324\n",
            "Accuracy for Logistic Regression : 61.276811778144435\n"
          ],
          "name": "stdout"
        }
      ]
    },
    {
      "cell_type": "code",
      "metadata": {
        "id": "Lirv9_L0SZ85"
      },
      "source": [
        "def compute_precision(tp,fp):\n",
        "  precision= tp*100/(tp+fp)\n",
        "  return precision"
      ],
      "execution_count": null,
      "outputs": []
    },
    {
      "cell_type": "code",
      "metadata": {
        "id": "fXBCPFF9XVqR",
        "colab": {
          "base_uri": "https://localhost:8080/"
        },
        "outputId": "7199ce62-f7c7-48c8-eb5b-d9aa25c9b2ce"
      },
      "source": [
        "print('Precision for Logistic Regression :', compute_precision(tp_lr,fp_lr))\n",
        "print('Precision for Random Forest :', compute_precision(tp_rf,fp_rf))"
      ],
      "execution_count": null,
      "outputs": [
        {
          "output_type": "stream",
          "text": [
            "Precision for Logistic Regression : 70.20717829004961\n",
            "Precision for Random Forest : 82.8952239911144\n"
          ],
          "name": "stdout"
        }
      ]
    },
    {
      "cell_type": "code",
      "metadata": {
        "id": "bKvrMNKSYpWW",
        "colab": {
          "base_uri": "https://localhost:8080/"
        },
        "outputId": "9c5033ed-9dc1-4c06-9e45-5a560b38e152"
      },
      "source": [
        "from sklearn.metrics import precision_score\n",
        "print('Precision for Logistic Regression :', 100* precision_score(df.y_act, \n",
        "                                                           df.y_pred_lr))\n",
        "print('Precision for Random Forest :', 100* precision_score(df.y_act, \n",
        "                                                           df.y_pred_rf))"
      ],
      "execution_count": null,
      "outputs": [
        {
          "output_type": "stream",
          "text": [
            "Precision for Logistic Regression : 70.20717829004961\n",
            "Precision for Random Forest : 82.89522399111439\n"
          ],
          "name": "stdout"
        }
      ]
    },
    {
      "cell_type": "code",
      "metadata": {
        "id": "ZsrGqhaMY2j9"
      },
      "source": [
        "def compute_recall(tp,fn):\n",
        "  recall=tp*100/(tp+fn)\n",
        "  return recall"
      ],
      "execution_count": null,
      "outputs": []
    },
    {
      "cell_type": "code",
      "metadata": {
        "id": "t9nsMZwBbFqF",
        "colab": {
          "base_uri": "https://localhost:8080/"
        },
        "outputId": "233bb462-a6d8-409a-f692-3ce5088dc6b0"
      },
      "source": [
        "print('Recall for Logistic Regression :', compute_recall(tp_lr,fn_lr))\n",
        "print('Recall for Random Forest :', compute_recall(tp_rf,fn_rf))"
      ],
      "execution_count": null,
      "outputs": [
        {
          "output_type": "stream",
          "text": [
            "Recall for Logistic Regression : 30.536870161187966\n",
            "Recall for Random Forest : 28.417311841604263\n"
          ],
          "name": "stdout"
        }
      ]
    },
    {
      "cell_type": "code",
      "metadata": {
        "id": "hctMfFOCa-OX",
        "colab": {
          "base_uri": "https://localhost:8080/"
        },
        "outputId": "f9947d95-06fc-43b4-a799-4048e7627dc9"
      },
      "source": [
        "from sklearn.metrics import recall_score\n",
        "\n",
        "print('Recall for Logistic Regression :', 100* recall_score(df.y_act, \n",
        "                                                           df.y_pred_lr))\n",
        "print('Recall for Random Forest :', 100* recall_score(df.y_act, \n",
        "                                                           df.y_pred_rf))"
      ],
      "execution_count": null,
      "outputs": [
        {
          "output_type": "stream",
          "text": [
            "Recall for Logistic Regression : 30.536870161187966\n",
            "Recall for Random Forest : 28.417311841604263\n"
          ],
          "name": "stdout"
        }
      ]
    },
    {
      "cell_type": "code",
      "metadata": {
        "id": "oYF1hlSGbiN4"
      },
      "source": [
        "def compute_f1_score(y_true, y_pred):\n",
        "  tp,tn,fp,fn=compute_tp_tn_fn_fp(y_true,y_pred)\n",
        "  prec=compute_precision(tp,fp)/100\n",
        "  reca=compute_recall(tp,fn)/100\n",
        "  f1_score= 2*prec*reca/(prec+reca)\n",
        "  return f1_score"
      ],
      "execution_count": null,
      "outputs": []
    },
    {
      "cell_type": "code",
      "metadata": {
        "id": "6BQl8guud5c8",
        "colab": {
          "base_uri": "https://localhost:8080/"
        },
        "outputId": "ddfc4a8c-c8f5-4b6d-fa6b-a6b87e9fe005"
      },
      "source": [
        "print('F1 score for Logistic Regression :', compute_f1_score(df.y_act, \n",
        "                                                             df.y_pred_lr))\n",
        "print('F1 score for Random Forest :', compute_f1_score(df.y_act, \n",
        "                                                             df.y_pred_rf))"
      ],
      "execution_count": null,
      "outputs": [
        {
          "output_type": "stream",
          "text": [
            "F1 score for Logistic Regression : 0.42561471784892974\n",
            "F1 score for Random Forest : 0.4232514177693762\n"
          ],
          "name": "stdout"
        }
      ]
    },
    {
      "cell_type": "code",
      "metadata": {
        "id": "qBrixsxLeFHq",
        "colab": {
          "base_uri": "https://localhost:8080/"
        },
        "outputId": "17fd332b-b8ee-4c9e-b1b6-aa894c98f3b0"
      },
      "source": [
        "from sklearn.metrics import f1_score\n",
        "print('F1 score for Logistic Regression :', f1_score(df.y_act, df.y_pred_lr))\n",
        "print('F1 score for Random Forest :', f1_score(df.y_act, df.y_pred_rf))"
      ],
      "execution_count": null,
      "outputs": [
        {
          "output_type": "stream",
          "text": [
            "F1 score for Logistic Regression : 0.42561471784892974\n",
            "F1 score for Random Forest : 0.42325141776937614\n"
          ],
          "name": "stdout"
        }
      ]
    },
    {
      "cell_type": "code",
      "metadata": {
        "id": "_ehAwBc4ecS_"
      },
      "source": [
        "from sklearn.metrics import roc_curve, roc_auc_score\r\n",
        "from matplotlib import pyplot\r\n",
        "auc_lr= roc_auc_score(df.y_act, df.y_pred_logistic)\r\n",
        "fpr_lr , tpr_lr, _ = roc_curve(df.y_act, df.y_pred_logistic)\r\n",
        "auc_rf= roc_auc_score(df.y_act, df.y_pred_random_forest)\r\n",
        "fpr_rf , tpr_rf, _ = roc_curve(df.y_act, df.y_pred_random_forest)"
      ],
      "execution_count": null,
      "outputs": []
    },
    {
      "cell_type": "code",
      "metadata": {
        "colab": {
          "base_uri": "https://localhost:8080/",
          "height": 313
        },
        "id": "XcB9XgyzGE3T",
        "outputId": "88a815d4-fefb-4f2b-8f2d-2041b7dc910a"
      },
      "source": [
        "pyplot.plot(fpr_lr,tpr_lr, linestyle='-',label='Logistic Regression')\r\n",
        "pyplot.plot(fpr_rf,tpr_rf, linestyle='-',label='Random Forest')\r\n",
        "pyplot.xlabel('False Positive Rate')\r\n",
        "pyplot.ylabel('True Positive Rate')\r\n",
        "pyplot.legend()\r\n",
        "pyplot.show()\r\n",
        "print(\"AUC for Random Forest model: \",auc_rf)\r\n",
        "print(\"AUC for Logistics Regression model: \",auc_lr)\r\n"
      ],
      "execution_count": null,
      "outputs": [
        {
          "output_type": "display_data",
          "data": {
            "image/png": "[encoded data removed]",
            "text/plain": [
              "<Figure size 432x288 with 1 Axes>"
            ]
          },
          "metadata": {
            "tags": [],
            "needs_background": "light"
          }
        },
        {
          "output_type": "stream",
          "text": [
            "AUC for Random Forest model:  0.73829514083596\n",
            "AUC for Logistics Regression model:  0.6657435203840882\n"
          ],
          "name": "stdout"
        }
      ]
    }
  ]
}