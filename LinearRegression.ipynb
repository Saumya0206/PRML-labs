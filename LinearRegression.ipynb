{
  "nbformat": 4,
  "nbformat_minor": 0,
  "metadata": {
    "colab": {
      "name": "B19EE082_Lab6.ipynb",
      "provenance": [],
      "collapsed_sections": []
    },
    "kernelspec": {
      "name": "python3",
      "display_name": "Python 3"
    },
    "language_info": {
      "name": "python"
    }
  },
  "cells": [
    {
      "cell_type": "code",
      "metadata": {
        "id": "Jr2whhfdcfyd"
      },
      "source": [
        "import pandas  as pd #Data manipulation\n",
        "import numpy as np #Data manipulation\n",
        "import matplotlib.pyplot as plt # Visualization\n",
        "import seaborn as sns #Visualization\n",
        "plt.rcParams['figure.figsize'] = [10,8]\n",
        "plt.rcParams['font.size'] =14\n",
        "plt.rcParams['font.weight']= 'bold'\n",
        "plt.style.use('seaborn-whitegrid')\n",
        "from google.colab import drive"
      ],
      "execution_count": 360,
      "outputs": []
    },
    {
      "cell_type": "code",
      "metadata": {
        "colab": {
          "base_uri": "https://localhost:8080/"
        },
        "id": "QBNeprgrR0Z_",
        "outputId": "355826c1-8fd2-4646-cf97-ced3a73de2e6"
      },
      "source": [
        "drive.mount('/content/drive')\n"
      ],
      "execution_count": 361,
      "outputs": [
        {
          "output_type": "stream",
          "text": [
            "Drive already mounted at /content/drive; to attempt to forcibly remount, call drive.mount(\"/content/drive\", force_remount=True).\n"
          ],
          "name": "stdout"
        }
      ]
    },
    {
      "cell_type": "code",
      "metadata": {
        "id": "33XN2m1-covv",
        "colab": {
          "base_uri": "https://localhost:8080/"
        },
        "outputId": "f3bcf493-addc-44d9-809f-ca061c7c3d8f"
      },
      "source": [
        "df= pd.read_csv('/content/drive/My Drive/insurance.csv')\n",
        "print(df.dtypes)\n",
        "print('\\nNumber of rows and columns in the data set: ',df.shape)\n",
        "df"
      ],
      "execution_count": 362,
      "outputs": [
        {
          "output_type": "stream",
          "text": [
            "age           int64\n",
            "sex          object\n",
            "bmi         float64\n",
            "children      int64\n",
            "smoker       object\n",
            "region       object\n",
            "charges     float64\n",
            "dtype: object\n",
            "\n",
            "Number of rows and columns in the data set:  (1338, 7)\n"
          ],
          "name": "stdout"
        },
        {
          "output_type": "execute_result",
          "data": {
            "text/html": [
              "<div>\n",
              "<style scoped>\n",
              "    .dataframe tbody tr th:only-of-type {\n",
              "        vertical-align: middle;\n",
              "    }\n",
              "\n",
              "    .dataframe tbody tr th {\n",
              "        vertical-align: top;\n",
              "    }\n",
              "\n",
              "    .dataframe thead th {\n",
              "        text-align: right;\n",
              "    }\n",
              "</style>\n",
              "<table border=\"1\" class=\"dataframe\">\n",
              "  <thead>\n",
              "    <tr style=\"text-align: right;\">\n",
              "      <th></th>\n",
              "      <th>age</th>\n",
              "      <th>sex</th>\n",
              "      <th>bmi</th>\n",
              "      <th>children</th>\n",
              "      <th>smoker</th>\n",
              "      <th>region</th>\n",
              "      <th>charges</th>\n",
              "    </tr>\n",
              "  </thead>\n",
              "  <tbody>\n",
              "    <tr>\n",
              "      <th>0</th>\n",
              "      <td>19</td>\n",
              "      <td>female</td>\n",
              "      <td>27.900</td>\n",
              "      <td>0</td>\n",
              "      <td>yes</td>\n",
              "      <td>southwest</td>\n",
              "      <td>16884.92400</td>\n",
              "    </tr>\n",
              "    <tr>\n",
              "      <th>1</th>\n",
              "      <td>18</td>\n",
              "      <td>male</td>\n",
              "      <td>33.770</td>\n",
              "      <td>1</td>\n",
              "      <td>no</td>\n",
              "      <td>southeast</td>\n",
              "      <td>1725.55230</td>\n",
              "    </tr>\n",
              "    <tr>\n",
              "      <th>2</th>\n",
              "      <td>28</td>\n",
              "      <td>male</td>\n",
              "      <td>33.000</td>\n",
              "      <td>3</td>\n",
              "      <td>no</td>\n",
              "      <td>southeast</td>\n",
              "      <td>4449.46200</td>\n",
              "    </tr>\n",
              "    <tr>\n",
              "      <th>3</th>\n",
              "      <td>33</td>\n",
              "      <td>male</td>\n",
              "      <td>22.705</td>\n",
              "      <td>0</td>\n",
              "      <td>no</td>\n",
              "      <td>northwest</td>\n",
              "      <td>21984.47061</td>\n",
              "    </tr>\n",
              "    <tr>\n",
              "      <th>4</th>\n",
              "      <td>32</td>\n",
              "      <td>male</td>\n",
              "      <td>28.880</td>\n",
              "      <td>0</td>\n",
              "      <td>no</td>\n",
              "      <td>northwest</td>\n",
              "      <td>3866.85520</td>\n",
              "    </tr>\n",
              "    <tr>\n",
              "      <th>...</th>\n",
              "      <td>...</td>\n",
              "      <td>...</td>\n",
              "      <td>...</td>\n",
              "      <td>...</td>\n",
              "      <td>...</td>\n",
              "      <td>...</td>\n",
              "      <td>...</td>\n",
              "    </tr>\n",
              "    <tr>\n",
              "      <th>1333</th>\n",
              "      <td>50</td>\n",
              "      <td>male</td>\n",
              "      <td>30.970</td>\n",
              "      <td>3</td>\n",
              "      <td>no</td>\n",
              "      <td>northwest</td>\n",
              "      <td>10600.54830</td>\n",
              "    </tr>\n",
              "    <tr>\n",
              "      <th>1334</th>\n",
              "      <td>18</td>\n",
              "      <td>female</td>\n",
              "      <td>31.920</td>\n",
              "      <td>0</td>\n",
              "      <td>no</td>\n",
              "      <td>northeast</td>\n",
              "      <td>2205.98080</td>\n",
              "    </tr>\n",
              "    <tr>\n",
              "      <th>1335</th>\n",
              "      <td>18</td>\n",
              "      <td>female</td>\n",
              "      <td>36.850</td>\n",
              "      <td>0</td>\n",
              "      <td>no</td>\n",
              "      <td>southeast</td>\n",
              "      <td>1629.83350</td>\n",
              "    </tr>\n",
              "    <tr>\n",
              "      <th>1336</th>\n",
              "      <td>21</td>\n",
              "      <td>female</td>\n",
              "      <td>25.800</td>\n",
              "      <td>0</td>\n",
              "      <td>no</td>\n",
              "      <td>southwest</td>\n",
              "      <td>2007.94500</td>\n",
              "    </tr>\n",
              "    <tr>\n",
              "      <th>1337</th>\n",
              "      <td>61</td>\n",
              "      <td>female</td>\n",
              "      <td>29.070</td>\n",
              "      <td>0</td>\n",
              "      <td>yes</td>\n",
              "      <td>northwest</td>\n",
              "      <td>29141.36030</td>\n",
              "    </tr>\n",
              "  </tbody>\n",
              "</table>\n",
              "<p>1338 rows × 7 columns</p>\n",
              "</div>"
            ],
            "text/plain": [
              "      age     sex     bmi  children smoker     region      charges\n",
              "0      19  female  27.900         0    yes  southwest  16884.92400\n",
              "1      18    male  33.770         1     no  southeast   1725.55230\n",
              "2      28    male  33.000         3     no  southeast   4449.46200\n",
              "3      33    male  22.705         0     no  northwest  21984.47061\n",
              "4      32    male  28.880         0     no  northwest   3866.85520\n",
              "...   ...     ...     ...       ...    ...        ...          ...\n",
              "1333   50    male  30.970         3     no  northwest  10600.54830\n",
              "1334   18  female  31.920         0     no  northeast   2205.98080\n",
              "1335   18  female  36.850         0     no  southeast   1629.83350\n",
              "1336   21  female  25.800         0     no  southwest   2007.94500\n",
              "1337   61  female  29.070         0    yes  northwest  29141.36030\n",
              "\n",
              "[1338 rows x 7 columns]"
            ]
          },
          "metadata": {
            "tags": []
          },
          "execution_count": 362
        }
      ]
    },
    {
      "cell_type": "code",
      "metadata": {
        "id": "r4i6UT1bcvR2",
        "colab": {
          "base_uri": "https://localhost:8080/"
        },
        "outputId": "a32ff109-1900-4ba5-e472-66a50b62d765"
      },
      "source": [
        "# desribe the dataset (Exploratory data analysis) \n",
        "df.info()"
      ],
      "execution_count": 363,
      "outputs": [
        {
          "output_type": "stream",
          "text": [
            "<class 'pandas.core.frame.DataFrame'>\n",
            "RangeIndex: 1338 entries, 0 to 1337\n",
            "Data columns (total 7 columns):\n",
            " #   Column    Non-Null Count  Dtype  \n",
            "---  ------    --------------  -----  \n",
            " 0   age       1338 non-null   int64  \n",
            " 1   sex       1338 non-null   object \n",
            " 2   bmi       1338 non-null   float64\n",
            " 3   children  1338 non-null   int64  \n",
            " 4   smoker    1338 non-null   object \n",
            " 5   region    1338 non-null   object \n",
            " 6   charges   1338 non-null   float64\n",
            "dtypes: float64(2), int64(2), object(3)\n",
            "memory usage: 73.3+ KB\n"
          ],
          "name": "stdout"
        }
      ]
    },
    {
      "cell_type": "code",
      "metadata": {
        "colab": {
          "base_uri": "https://localhost:8080/"
        },
        "id": "rEk6NPk_X-zc",
        "outputId": "fa0b411e-f556-4079-f6aa-b6a6f2c6bc80"
      },
      "source": [
        "df.describe()"
      ],
      "execution_count": 364,
      "outputs": [
        {
          "output_type": "execute_result",
          "data": {
            "text/html": [
              "<div>\n",
              "<style scoped>\n",
              "    .dataframe tbody tr th:only-of-type {\n",
              "        vertical-align: middle;\n",
              "    }\n",
              "\n",
              "    .dataframe tbody tr th {\n",
              "        vertical-align: top;\n",
              "    }\n",
              "\n",
              "    .dataframe thead th {\n",
              "        text-align: right;\n",
              "    }\n",
              "</style>\n",
              "<table border=\"1\" class=\"dataframe\">\n",
              "  <thead>\n",
              "    <tr style=\"text-align: right;\">\n",
              "      <th></th>\n",
              "      <th>age</th>\n",
              "      <th>bmi</th>\n",
              "      <th>children</th>\n",
              "      <th>charges</th>\n",
              "    </tr>\n",
              "  </thead>\n",
              "  <tbody>\n",
              "    <tr>\n",
              "      <th>count</th>\n",
              "      <td>1338.000000</td>\n",
              "      <td>1338.000000</td>\n",
              "      <td>1338.000000</td>\n",
              "      <td>1338.000000</td>\n",
              "    </tr>\n",
              "    <tr>\n",
              "      <th>mean</th>\n",
              "      <td>39.207025</td>\n",
              "      <td>30.663397</td>\n",
              "      <td>1.094918</td>\n",
              "      <td>13270.422265</td>\n",
              "    </tr>\n",
              "    <tr>\n",
              "      <th>std</th>\n",
              "      <td>14.049960</td>\n",
              "      <td>6.098187</td>\n",
              "      <td>1.205493</td>\n",
              "      <td>12110.011237</td>\n",
              "    </tr>\n",
              "    <tr>\n",
              "      <th>min</th>\n",
              "      <td>18.000000</td>\n",
              "      <td>15.960000</td>\n",
              "      <td>0.000000</td>\n",
              "      <td>1121.873900</td>\n",
              "    </tr>\n",
              "    <tr>\n",
              "      <th>25%</th>\n",
              "      <td>27.000000</td>\n",
              "      <td>26.296250</td>\n",
              "      <td>0.000000</td>\n",
              "      <td>4740.287150</td>\n",
              "    </tr>\n",
              "    <tr>\n",
              "      <th>50%</th>\n",
              "      <td>39.000000</td>\n",
              "      <td>30.400000</td>\n",
              "      <td>1.000000</td>\n",
              "      <td>9382.033000</td>\n",
              "    </tr>\n",
              "    <tr>\n",
              "      <th>75%</th>\n",
              "      <td>51.000000</td>\n",
              "      <td>34.693750</td>\n",
              "      <td>2.000000</td>\n",
              "      <td>16639.912515</td>\n",
              "    </tr>\n",
              "    <tr>\n",
              "      <th>max</th>\n",
              "      <td>64.000000</td>\n",
              "      <td>53.130000</td>\n",
              "      <td>5.000000</td>\n",
              "      <td>63770.428010</td>\n",
              "    </tr>\n",
              "  </tbody>\n",
              "</table>\n",
              "</div>"
            ],
            "text/plain": [
              "               age          bmi     children       charges\n",
              "count  1338.000000  1338.000000  1338.000000   1338.000000\n",
              "mean     39.207025    30.663397     1.094918  13270.422265\n",
              "std      14.049960     6.098187     1.205493  12110.011237\n",
              "min      18.000000    15.960000     0.000000   1121.873900\n",
              "25%      27.000000    26.296250     0.000000   4740.287150\n",
              "50%      39.000000    30.400000     1.000000   9382.033000\n",
              "75%      51.000000    34.693750     2.000000  16639.912515\n",
              "max      64.000000    53.130000     5.000000  63770.428010"
            ]
          },
          "metadata": {
            "tags": []
          },
          "execution_count": 364
        }
      ]
    },
    {
      "cell_type": "code",
      "metadata": {
        "colab": {
          "base_uri": "https://localhost:8080/"
        },
        "id": "XvXSc4EKYMSp",
        "outputId": "89497b8e-d928-4034-ac49-fa761abb6ff7"
      },
      "source": [
        "df.charges.unique()"
      ],
      "execution_count": 365,
      "outputs": [
        {
          "output_type": "execute_result",
          "data": {
            "text/plain": [
              "array([16884.924 ,  1725.5523,  4449.462 , ...,  1629.8335,  2007.945 ,\n",
              "       29141.3603])"
            ]
          },
          "metadata": {
            "tags": []
          },
          "execution_count": 365
        }
      ]
    },
    {
      "cell_type": "code",
      "metadata": {
        "id": "sEHP1yM9c6Xq",
        "colab": {
          "base_uri": "https://localhost:8080/"
        },
        "outputId": "a88f8c6b-dcc5-45a3-bbca-4305d83f3d16"
      },
      "source": [
        "#Check for missing value\n",
        "print(df.isnull())\n",
        "print(df.isnull().sum())"
      ],
      "execution_count": 366,
      "outputs": [
        {
          "output_type": "stream",
          "text": [
            "        age    sex    bmi  children  smoker  region  charges\n",
            "0     False  False  False     False   False   False    False\n",
            "1     False  False  False     False   False   False    False\n",
            "2     False  False  False     False   False   False    False\n",
            "3     False  False  False     False   False   False    False\n",
            "4     False  False  False     False   False   False    False\n",
            "...     ...    ...    ...       ...     ...     ...      ...\n",
            "1333  False  False  False     False   False   False    False\n",
            "1334  False  False  False     False   False   False    False\n",
            "1335  False  False  False     False   False   False    False\n",
            "1336  False  False  False     False   False   False    False\n",
            "1337  False  False  False     False   False   False    False\n",
            "\n",
            "[1338 rows x 7 columns]\n",
            "age         0\n",
            "sex         0\n",
            "bmi         0\n",
            "children    0\n",
            "smoker      0\n",
            "region      0\n",
            "charges     0\n",
            "dtype: int64\n"
          ],
          "name": "stdout"
        }
      ]
    },
    {
      "cell_type": "code",
      "metadata": {
        "colab": {
          "base_uri": "https://localhost:8080/"
        },
        "id": "LISuERfwYpUC",
        "outputId": "256541aa-3acd-4f13-d9a7-f8f5c1d49326"
      },
      "source": [
        "plt.figure(figsize=(15,5))\n",
        "sns.heatmap(df.isnull(),cbar=False,cmap='viridis',yticklabels=False)\n",
        "plt.title('Missing value in the dataset');"
      ],
      "execution_count": 367,
      "outputs": [
        {
          "output_type": "display_data",
          "data": {
            "image/png": "[encoded data removed]",
            "text/plain": [
              "<Figure size 1080x360 with 1 Axes>"
            ]
          },
          "metadata": {
            "tags": []
          }
        }
      ]
    },
    {
      "cell_type": "markdown",
      "metadata": {
        "id": "8jXLACW2iBYE"
      },
      "source": [
        "Correlation plot without label encoding"
      ]
    },
    {
      "cell_type": "code",
      "metadata": {
        "colab": {
          "base_uri": "https://localhost:8080/"
        },
        "id": "2AK7X1ObxyA-",
        "outputId": "cd9c05ee-1aba-46a5-9508-efe89f1ac3e4"
      },
      "source": [
        "sns.histplot(df['age'],fill=True, color='maroon',kde=True)"
      ],
      "execution_count": 368,
      "outputs": [
        {
          "output_type": "execute_result",
          "data": {
            "text/plain": [
              "<matplotlib.axes._subplots.AxesSubplot at 0x7f1431da6190>"
            ]
          },
          "metadata": {
            "tags": []
          },
          "execution_count": 368
        },
        {
          "output_type": "display_data",
          "data": {
            "image/png": "[encoded data removed]",
            "text/plain": [
              "<Figure size 720x576 with 1 Axes>"
            ]
          },
          "metadata": {
            "tags": []
          }
        }
      ]
    },
    {
      "cell_type": "code",
      "metadata": {
        "colab": {
          "base_uri": "https://localhost:8080/"
        },
        "id": "pGylutXQyGNL",
        "outputId": "9a826418-774e-44e3-e7a4-a1700a29befd"
      },
      "source": [
        "sns.histplot(df['sex'],fill=True, color='maroon',kde=True)"
      ],
      "execution_count": 369,
      "outputs": [
        {
          "output_type": "execute_result",
          "data": {
            "text/plain": [
              "<matplotlib.axes._subplots.AxesSubplot at 0x7f1432520990>"
            ]
          },
          "metadata": {
            "tags": []
          },
          "execution_count": 369
        },
        {
          "output_type": "display_data",
          "data": {
            "image/png": "[encoded data removed]",
            "text/plain": [
              "<Figure size 720x576 with 1 Axes>"
            ]
          },
          "metadata": {
            "tags": []
          }
        }
      ]
    },
    {
      "cell_type": "code",
      "metadata": {
        "colab": {
          "base_uri": "https://localhost:8080/"
        },
        "id": "T0iV8H5WySt5",
        "outputId": "ea26d291-7ae9-4463-b949-b56c86731789"
      },
      "source": [
        "sns.kdeplot(df['bmi'],bw=1,color='maroon',fill=True)"
      ],
      "execution_count": null,
      "outputs": [
        {
          "output_type": "stream",
          "text": [
            "/usr/local/lib/python3.7/dist-packages/seaborn/distributions.py:1657: FutureWarning: The `bw` parameter is deprecated in favor of `bw_method` and `bw_adjust`. Using 1 for `bw_method`, but please see the docs for the new parameters and update your code.\n",
            "  warnings.warn(msg, FutureWarning)\n"
          ],
          "name": "stderr"
        },
        {
          "output_type": "execute_result",
          "data": {
            "text/plain": [
              "<matplotlib.axes._subplots.AxesSubplot at 0x7f143271d8d0>"
            ]
          },
          "metadata": {
            "tags": []
          },
          "execution_count": 370
        }
      ]
    },
    {
      "cell_type": "code",
      "metadata": {
        "id": "3lwnGy9JygFA"
      },
      "source": [
        "sns.histplot(df['children'],fill=True, color='maroon',kde=True)"
      ],
      "execution_count": null,
      "outputs": []
    },
    {
      "cell_type": "code",
      "metadata": {
        "id": "2kS76IUVylNl"
      },
      "source": [
        "sns.histplot(df['smoker'],fill=True, color='maroon',kde=True)"
      ],
      "execution_count": null,
      "outputs": []
    },
    {
      "cell_type": "code",
      "metadata": {
        "id": "mu7KdFecytQ2"
      },
      "source": [
        "sns.histplot(df['region'],fill=True, color='maroon',kde=True)"
      ],
      "execution_count": null,
      "outputs": []
    },
    {
      "cell_type": "code",
      "metadata": {
        "id": "ujkBs_gXdCb4"
      },
      "source": [
        "# correlation plot\n",
        "corrMatrix = df.corr()\n",
        "print (corrMatrix)\n",
        "sns.heatmap(corrMatrix, annot=True, cmap='PiYG',square=True)\n",
        "plt.show()"
      ],
      "execution_count": null,
      "outputs": []
    },
    {
      "cell_type": "code",
      "metadata": {
        "id": "XrDVrGasdGJW"
      },
      "source": [
        "#Plot the distribution of the dependent variable\n",
        "f= plt.figure(figsize=(15,5))\n",
        "ax=f.add_subplot(121)\n",
        "sns.histplot(df['charges'], kde=True, color='maroon')\n",
        "ax.set_title('Distribution of insurance charges')\n",
        "\n",
        "ax=f.add_subplot(122)\n",
        "ax.set_title('Distribution of insurance charges in $log$ sacle')\n",
        "sns.histplot(df['charges'], kde=True, log_scale=True,color='maroon')"
      ],
      "execution_count": null,
      "outputs": []
    },
    {
      "cell_type": "markdown",
      "metadata": {
        "id": "lTs39ChfehGj"
      },
      "source": [
        "#Convert categorical data into numbers\n",
        "\n",
        "\n",
        "*   Label Enocding\n",
        "*   One hot Encoding\n",
        "\n",
        "\n",
        "#Lable Encoding\n",
        "Label encoding refers to transforming the word labels into numerical form so that the algorithms can understand how to operate on them.\n",
        "\n",
        "#One hot Encoding\n",
        "A One hot encoding is a representation of categorical variable as binary vectors.It allows the representation of categorical data to be \n",
        "more expresive. This first requires that the categorical values be mapped to integer values, that is label encoding. Then, each integer \n",
        "value is represented as a binary vector that is all zero values except the index of the integer, which is marked with a 1.\n",
        "\n",
        "You may take help of pandas get_dummies function for this. "
      ]
    },
    {
      "cell_type": "code",
      "metadata": {
        "id": "v3oZy7QGe6G_"
      },
      "source": [
        "# Log transform of dependent variable\n",
        "from sklearn.preprocessing import LabelEncoder  \n",
        "enc = LabelEncoder()    \n",
        "df['sex'] = enc.fit_transform(df['sex'])\n",
        "df['smoker'] = enc.fit_transform(df['smoker'])\n",
        "df['region'] = enc.fit_transform(df['region'])\n",
        "print(df)"
      ],
      "execution_count": null,
      "outputs": []
    },
    {
      "cell_type": "code",
      "metadata": {
        "id": "LN19qe14GV24"
      },
      "source": [
        "df['log_charges'] = np.log(df['charges'])\n",
        "print(df)\n",
        "sns.histplot(df['log_charges'], fill=True, kde=True,color='maroon')"
      ],
      "execution_count": null,
      "outputs": []
    },
    {
      "cell_type": "code",
      "metadata": {
        "id": "Aw4AutzdGpPa"
      },
      "source": [
        "df.skew(axis = 0, skipna = True)"
      ],
      "execution_count": null,
      "outputs": []
    },
    {
      "cell_type": "markdown",
      "metadata": {
        "id": "KaWwlRKLiJqY"
      },
      "source": [
        "Correlation plot with label encoding"
      ]
    },
    {
      "cell_type": "code",
      "metadata": {
        "id": "QRNAuXCniINa"
      },
      "source": [
        "# correlation plot\n",
        "corrMatrix = df.corr()\n",
        "print (corrMatrix)\n",
        "sns.heatmap(corrMatrix,annot=True,  cmap='gnuplot_r',square=True)\n",
        "plt.show()"
      ],
      "execution_count": null,
      "outputs": []
    },
    {
      "cell_type": "code",
      "metadata": {
        "id": "inaAwUhWhIrX"
      },
      "source": [
        "#Train Test split\n",
        "from sklearn.model_selection import train_test_split\n",
        "df['X0'] = [1 for i in range(df.shape[0])]\n",
        "X = df.drop(['charges', 'log_charges'], axis=1)\n",
        "Y = df['log_charges']\n",
        "X_train, X_test, Y_train, Y_test = train_test_split(X,Y,test_size=0.3, shuffle=True, random_state=42)\n",
        "print(X)\n",
        "print(Y)"
      ],
      "execution_count": null,
      "outputs": []
    },
    {
      "cell_type": "markdown",
      "metadata": {
        "id": "DDDSKwyShSHB"
      },
      "source": [
        "#Model building"
      ]
    },
    {
      "cell_type": "code",
      "metadata": {
        "id": "XP2h4IYdhTZn"
      },
      "source": [
        "# Step 1: add x0 =1 to dataset\n",
        "\n",
        "\n",
        "\n",
        "# Step2: build model\n",
        "XT=np.transpose(X_train)\n",
        "XTX=XT.dot(X_train)\n",
        "inv=np.linalg.inv(XTX)\n",
        "inv_XT=inv.dot(XT)\n",
        "theta=inv_XT.dot(Y_train)\n",
        "\n",
        "\n",
        "# The parameters for linear regression model\n",
        "print(\"Parameter using linear regression equation:\\n\",theta)\n",
        "intercept=theta[len(theta)-1]\n",
        "# slope=theta[1]\n",
        "print(\"Intercept: \",intercept)\n",
        "# print(\"slope: \",slope)"
      ],
      "execution_count": null,
      "outputs": []
    },
    {
      "cell_type": "code",
      "metadata": {
        "id": "LpcoN-RRha2l"
      },
      "source": [
        "# Scikit Learn module\n",
        "from sklearn.linear_model import LinearRegression\n",
        "reg = LinearRegression().fit(X_train, Y_train)\n",
        "# reg.predict()\n",
        "\n",
        "#Parameter\n",
        "print(\"Parameter using sklearn library:\\n\",reg.coef_)\n",
        "print(\"intercept:\",reg.intercept_)\n",
        "print(\"Score:\",reg.score(X_train, Y_train))"
      ],
      "execution_count": null,
      "outputs": []
    },
    {
      "cell_type": "markdown",
      "metadata": {
        "id": "dBMAQ_Pjhr-f"
      },
      "source": [
        "#Model evaluation"
      ]
    },
    {
      "cell_type": "code",
      "metadata": {
        "id": "N5uc1Oj4h4dr"
      },
      "source": [
        "# prediction\n",
        "# import math\n",
        "A=X_test.to_numpy()\n",
        "B=Y_test.to_numpy()\n",
        "# Y_test=Y_test.to_numpy()\n",
        "Y_pred = A.dot(theta)\n",
        "print(\"Prediction from model using linear regression equation: \\n\")\n",
        "data = pd.DataFrame({'Actual': Y_test, 'Predicted': Y_pred})\n",
        "print(data)\n",
        "# print(Y_test)\n",
        "errorList=[]\n",
        "for i in range(len(Y_pred)):\n",
        "  error=pow((B[i]-Y_pred[i]),2)\n",
        "  errorList.append(error)\n",
        "\n",
        "#Evaluvation: MSE (Write your MSE equation from scratch)\n",
        "J_mse = sum(errorList)/len(Y_pred)\n",
        "rmse=np.sqrt(J_mse)\n",
        "# print(J_mse)\n"
      ],
      "execution_count": null,
      "outputs": []
    },
    {
      "cell_type": "code",
      "metadata": {
        "id": "E69D8N25h-S7"
      },
      "source": [
        "print('The Mean Square Error(MSE) or J(theta) is: ',J_mse)\n",
        "print('Root Mean Squared Error:', rmse)"
      ],
      "execution_count": null,
      "outputs": []
    },
    {
      "cell_type": "code",
      "metadata": {
        "id": "0ozQ7YGYiC2W"
      },
      "source": [
        "# sklearn regression module\n",
        "from sklearn.metrics import mean_squared_error\n",
        "# from sklearn import metrics\n",
        "y_pred_sk = reg.predict(X_test)\n",
        "# print(y_pred_sk)\n",
        "data1 = pd.DataFrame({'Actual': Y_test, 'Predicted': y_pred_sk})\n",
        "print(\"Prediction from linear regression model using the sklearn library: \\n\")\n",
        "print(data1)\n",
        "#Evaluvation: MSE\n",
        "J_mse_sk = metrics.mean_squared_error(B, y_pred_sk)\n",
        "rmse = np.sqrt(J_mse_sk)"
      ],
      "execution_count": null,
      "outputs": []
    },
    {
      "cell_type": "code",
      "metadata": {
        "id": "sAJspQREiLWU"
      },
      "source": [
        "print('The Mean Square Error(MSE) or J(theta) is: ',J_mse_sk)\n",
        "print('Root Mean Squared Error:', rmse)"
      ],
      "execution_count": null,
      "outputs": []
    },
    {
      "cell_type": "code",
      "metadata": {
        "id": "UGnILMgriMNi"
      },
      "source": [
        "\n",
        "# Check for Linearity\n",
        "f = plt.figure(figsize=(20,7))\n",
        "ax = f.add_subplot(121)\n",
        "sns.scatterplot(x=Y_test, y=Y_pred, ci=None, color=\"maroon\", label=\"Point\")\n",
        "# sns.lineplot(x=Y_test, y=Y_pred, ci=None, color=\"blue\", label=\"Point\")\n",
        "plt.title(\"Model using linear regression equation Model\")\n",
        "plt.xlabel(\"Actual Values\")\n",
        "plt.ylabel(\"Predicted Values\")\n",
        "plt.legend()\n",
        "plt.show()\n",
        "\n",
        "# Check for Linearity\n",
        "f = plt.figure(figsize=(20,7))\n",
        "ax = f.add_subplot(121)\n",
        "sns.scatterplot(x=Y_test, y=y_pred_sk, ci=None, color=\"maroon\", label=\"Point\")\n",
        "plt.title(\"Linear regression model using the sklearn library\")\n",
        "plt.xlabel(\"Actual Values\")\n",
        "plt.ylabel(\"Predicted Values\")\n",
        "plt.legend()\n",
        "plt.show()"
      ],
      "execution_count": null,
      "outputs": []
    },
    {
      "cell_type": "code",
      "metadata": {
        "id": "Q4kG1hQfB9Nb"
      },
      "source": [
        "for i,j in enumerate(X.columns):\n",
        "  model=LinearRegression()\n",
        "  model.fit(X[j].values[:,np.newaxis], Y.values)\n",
        "  predd=model.predict(X[j].values[:,np.newaxis])\n",
        "  plt.title(\"Best fit line\")\n",
        "  plt.xlabel(str(j))\n",
        "  plt.ylabel('Charges')\n",
        "  plt.scatter(X[j].values[:,np.newaxis], Y,color='maroon', s=20)\n",
        "  # sns.scatterplot(x=X[j].values[:,np.newaxis],y= Y, color=\"maroon\")\n",
        "  plt.plot(X[j].values[:,np.newaxis], predd ,color='blue')\n",
        "  plt.show()"
      ],
      "execution_count": null,
      "outputs": []
    },
    {
      "cell_type": "markdown",
      "metadata": {
        "id": "xUiHxPeATrea"
      },
      "source": [
        "References:\n",
        "\n",
        "\n",
        "https://datatofish.com/correlation-matrix-pandas/\n",
        "\n",
        "https://www.geeksforgeeks.org/python-pandas-dataframe-skew/\n",
        "\n",
        "https://www.geeksforgeeks.org/ml-label-encoding-of-datasets-in-python/\n",
        "\n",
        "https://stackoverflow.com/questions/49347878/normal-equation-for-linear-regression\n",
        "\n",
        "https://medium.com/@shuklapratik22/implementation-of-simple-linear-regression-using-normal-equation-matrices-f9021c3590da\n",
        "\n",
        "https://stackabuse.com/linear-regression-in-python-with-scikit-learn/\n",
        "\n",
        "https://scikit-learn.org/stable/modules/generated/sklearn.linear_model.LinearRegression.html"
      ]
    }
  ]
}